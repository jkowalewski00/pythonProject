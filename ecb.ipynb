{
 "cells": [
  {
   "cell_type": "markdown",
   "id": "062c17ac",
   "metadata": {},
   "source": [
    "Encryption AES, DES, DES3, ARC4, ARC2 in ECB mode"
   ]
  },
  {
   "cell_type": "code",
   "execution_count": null,
   "id": "8ccb5524",
   "metadata": {},
   "outputs": [],
   "source": [
    "import os\n",
    "import shutil\n",
    "from Crypto.Cipher import AES, DES, DES3, ARC4\n",
    "from Crypto.Util.Padding import pad\n",
    "from Crypto.Random import get_random_bytes"
   ]
  },
  {
   "cell_type": "code",
   "id": "ef627486",
   "metadata": {
    "ExecuteTime": {
     "end_time": "2025-04-16T14:53:59.211579Z",
     "start_time": "2025-04-16T14:53:59.205070Z"
    }
   },
   "source": [
    "import os\n",
    "from Crypto.Cipher import AES, DES, DES3, ARC4, ARC2\n",
    "from Crypto.Util.Padding import pad\n",
    "from Crypto.Random import get_random_bytes\n",
    "import math\n",
    "import shutil\n",
    "\n",
    "def encrypt_ecb(algorithm, key, plaintext):\n",
    "    if algorithm == 'AES':\n",
    "        cipher = AES.new(key, AES.MODE_ECB)\n",
    "        return cipher.encrypt(pad(plaintext, AES.block_size))\n",
    "    elif algorithm == 'DES':\n",
    "        cipher = DES.new(key, DES.MODE_ECB)\n",
    "        return cipher.encrypt(pad(plaintext, DES.block_size))\n",
    "    elif algorithm == 'DES3':\n",
    "        cipher = DES3.new(key, DES.MODE_ECB)\n",
    "        return cipher.encrypt(pad(plaintext, DES3.block_size))\n",
    "    elif algorithm == 'ARC4':\n",
    "        cipher = ARC4.new(key)\n",
    "        return cipher.encrypt(plaintext)\n",
    "    elif algorithm == 'ARC2':\n",
    "        cipher = ARC2.new(key, ARC2.MODE_ECB)\n",
    "        return cipher.encrypt(pad(plaintext, ARC2.block_size))\n",
    "\n",
    "def encrypt_files_by_format_ecb(base_dir, save_dir):\n",
    "    formats = ['bmp', 'csv', 'html', 'pyth', 'txt', 'wav']\n",
    "    algorithms = ['AES', 'DES', 'DES3', 'ARC4', 'NONE']\n",
    "\n",
    "    keys = {\n",
    "        'AES': get_random_bytes(16),\n",
    "        'DES': get_random_bytes(8),\n",
    "        'DES3': DES3.adjust_key_parity(get_random_bytes(24)),\n",
    "        'ARC4': get_random_bytes(16),\n",
    "    }\n",
    "\n",
    "    for folder in formats:\n",
    "        input_dir = os.path.join(base_dir, folder)\n",
    "        if not os.path.exists(input_dir):\n",
    "            continue\n",
    "\n",
    "        file_list = sorted([f for f in os.listdir(input_dir) if os.path.isfile(os.path.join(input_dir, f))])\n",
    "        total_files = len(file_list)\n",
    "        files_per_algo = math.ceil(total_files / len(algorithms))\n",
    "\n",
    "        os.makedirs(save_dir, exist_ok=True)\n",
    "\n",
    "        for i, algo in enumerate(algorithms):\n",
    "            start_idx = i * files_per_algo\n",
    "            end_idx = min((i + 1) * files_per_algo, total_files)\n",
    "            selected_files = file_list[start_idx:end_idx]\n",
    "\n",
    "            output_dir = os.path.join(save_dir, f\"{folder}_ecb\", algo)\n",
    "            os.makedirs(output_dir, exist_ok=True)\n",
    "\n",
    "            for file_name in selected_files:\n",
    "                input_path = os.path.join(input_dir, file_name)\n",
    "                output_path = os.path.join(output_dir, file_name + ('' if algo == 'NONE' else '.enc'))\n",
    "\n",
    "                with open(input_path, 'rb') as f:\n",
    "                    plain_text = f.read()\n",
    "\n",
    "                if algo == 'NONE':\n",
    "                    shutil.copy2(input_path, output_path)\n",
    "                else:\n",
    "                    cipher_text = encrypt_ecb(algo, keys[algo], plain_text)\n",
    "                    with open(output_path, 'wb') as f_encrypted:\n",
    "                        f_encrypted.write(cipher_text)\n",
    "\n",
    "    print(\"All files encrypted.\")"
   ],
   "outputs": [],
   "execution_count": 10
  },
  {
   "cell_type": "markdown",
   "id": "90f67122",
   "metadata": {},
   "source": [
    "Encryption"
   ]
  },
  {
   "cell_type": "code",
   "id": "97a24df3",
   "metadata": {
    "ExecuteTime": {
     "end_time": "2025-04-16T14:54:23.306832Z",
     "start_time": "2025-04-16T14:54:13.403231Z"
    }
   },
   "source": "encrypt_files_by_format_ecb('3000_files', 'encrypted_ecb_3000')",
   "outputs": [
    {
     "name": "stdout",
     "output_type": "stream",
     "text": [
      "All files encrypted.\n"
     ]
    }
   ],
   "execution_count": 11
  },
  {
   "metadata": {},
   "cell_type": "markdown",
   "source": "Encryption using 3 or 6 keys per algo",
   "id": "b45e944ba3b0f98c"
  },
  {
   "metadata": {
    "ExecuteTime": {
     "end_time": "2025-04-16T14:55:32.842905Z",
     "start_time": "2025-04-16T14:55:32.837994Z"
    }
   },
   "cell_type": "code",
   "source": [
    "def generate_keys(keys_per_algorithm):\n",
    "    keys = {}\n",
    "    for algo in ['AES', 'DES', 'DES3', 'ARC4']:\n",
    "        key_list = []\n",
    "        for _ in range(keys_per_algorithm):\n",
    "            if algo == 'AES':\n",
    "                key_list.append(get_random_bytes(16))\n",
    "            elif algo == 'DES':\n",
    "                key_list.append(get_random_bytes(8))\n",
    "            elif algo == 'DES3':\n",
    "                key_list.append(DES3.adjust_key_parity(get_random_bytes(24)))\n",
    "            elif algo == 'ARC4':\n",
    "                key_list.append(get_random_bytes(16))\n",
    "        keys[algo] = key_list\n",
    "    return keys\n",
    "\n",
    "def encrypt_files_by_format_ecb(base_dir, save_dir, keys_per_algorithm=3):\n",
    "    formats = ['bmp', 'csv', 'html', 'pyth', 'txt', 'wav']\n",
    "    algorithms = ['AES', 'DES', 'DES3', 'ARC4', 'NONE']\n",
    "\n",
    "    keys = generate_keys(keys_per_algorithm)\n",
    "\n",
    "    for folder in formats:\n",
    "        input_dir = os.path.join(base_dir, folder)\n",
    "        if not os.path.exists(input_dir):\n",
    "            continue\n",
    "\n",
    "        file_list = sorted([f for f in os.listdir(input_dir) if os.path.isfile(os.path.join(input_dir, f))])\n",
    "        total_files = len(file_list)\n",
    "        files_per_algo = math.ceil(total_files / len(algorithms))\n",
    "\n",
    "        os.makedirs(save_dir, exist_ok=True)\n",
    "\n",
    "        for i, algo in enumerate(algorithms):\n",
    "            start_idx = i * files_per_algo\n",
    "            end_idx = min((i + 1) * files_per_algo, total_files)\n",
    "            selected_files = file_list[start_idx:end_idx]\n",
    "\n",
    "            output_dir = os.path.join(save_dir, f\"{folder}_ecb\", f\"{algo}\")\n",
    "            os.makedirs(output_dir, exist_ok=True)\n",
    "\n",
    "            for j, file_name in enumerate(selected_files):\n",
    "                input_path = os.path.join(input_dir, file_name)\n",
    "                output_path = os.path.join(output_dir, file_name + ('' if algo == 'NONE' else '.enc'))\n",
    "\n",
    "                with open(input_path, 'rb') as f:\n",
    "                    plain_text = f.read()\n",
    "\n",
    "                if algo == 'NONE':\n",
    "                    shutil.copy2(input_path, output_path)\n",
    "                else:\n",
    "                    key_index = j % keys_per_algorithm\n",
    "                    key = keys[algo][key_index]\n",
    "                    cipher_text = encrypt_ecb(algo, key, plain_text)\n",
    "                    with open(output_path, 'wb') as f_encrypted:\n",
    "                        f_encrypted.write(cipher_text)\n",
    "\n",
    "    print(f\"All files encrypted using {keys_per_algorithm} keys per algorithm.\")\n"
   ],
   "id": "d7f7f60d1cd68ad",
   "outputs": [],
   "execution_count": 12
  },
  {
   "metadata": {
    "ExecuteTime": {
     "end_time": "2025-04-16T14:56:56.660498Z",
     "start_time": "2025-04-16T14:56:51.052963Z"
    }
   },
   "cell_type": "code",
   "source": "encrypt_files_by_format_ecb('1800_files', 'encrypted_ecb_1800_3keys', 3)",
   "id": "f7a9b6047a8c285e",
   "outputs": [
    {
     "name": "stdout",
     "output_type": "stream",
     "text": [
      "All files encrypted using 3 keys per algorithm.\n"
     ]
    }
   ],
   "execution_count": 14
  },
  {
   "metadata": {
    "ExecuteTime": {
     "end_time": "2025-04-16T14:57:16.039109Z",
     "start_time": "2025-04-16T14:57:09.657317Z"
    }
   },
   "cell_type": "code",
   "source": "encrypt_files_by_format_ecb('1800_files', 'encrypted_ecb_1800_6keys', 6)",
   "id": "1651aa30a3efd644",
   "outputs": [
    {
     "name": "stdout",
     "output_type": "stream",
     "text": [
      "All files encrypted using 6 keys per algorithm.\n"
     ]
    }
   ],
   "execution_count": 16
  },
  {
   "metadata": {
    "ExecuteTime": {
     "end_time": "2025-04-16T14:57:35.354038Z",
     "start_time": "2025-04-16T14:57:24.788702Z"
    }
   },
   "cell_type": "code",
   "source": "encrypt_files_by_format_ecb('3000_files', 'encrypted_ecb_3000_3keys', 3)",
   "id": "38f57059e7cae916",
   "outputs": [
    {
     "name": "stdout",
     "output_type": "stream",
     "text": [
      "All files encrypted using 3 keys per algorithm.\n"
     ]
    }
   ],
   "execution_count": 17
  },
  {
   "metadata": {
    "ExecuteTime": {
     "end_time": "2025-04-16T14:57:47.449702Z",
     "start_time": "2025-04-16T14:57:37.664491Z"
    }
   },
   "cell_type": "code",
   "source": "encrypt_files_by_format_ecb('3000_files', 'encrypted_ecb_3000_6keys', 6)\n",
   "id": "a73f2a028f91a61",
   "outputs": [
    {
     "name": "stdout",
     "output_type": "stream",
     "text": [
      "All files encrypted using 6 keys per algorithm.\n"
     ]
    }
   ],
   "execution_count": 18
  }
 ],
 "metadata": {
  "kernelspec": {
   "display_name": "venv",
   "language": "python",
   "name": "python3"
  },
  "language_info": {
   "codemirror_mode": {
    "name": "ipython",
    "version": 3
   },
   "file_extension": ".py",
   "mimetype": "text/x-python",
   "name": "python",
   "nbconvert_exporter": "python",
   "pygments_lexer": "ipython3",
   "version": "3.12.3"
  }
 },
 "nbformat": 4,
 "nbformat_minor": 5
}
