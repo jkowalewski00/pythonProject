{
 "cells": [
  {
   "cell_type": "markdown",
   "id": "ce894765",
   "metadata": {},
   "source": [
    "Generating *.txt files"
   ]
  },
  {
   "cell_type": "code",
   "id": "initial_id",
   "metadata": {
    "collapsed": true,
    "ExecuteTime": {
     "end_time": "2025-04-16T14:18:55.318766Z",
     "start_time": "2025-04-16T14:18:55.272833Z"
    }
   },
   "source": [
    "from faker import Faker\n",
    "import random\n",
    "import os\n",
    "\n",
    "def generate_random_text(size, language = \"en\"):\n",
    "    fake = Faker(language)\n",
    "    words = []\n",
    "    while sum(len(w) for w in words) + len(words) - 1 < size:\n",
    "        words.append(fake.word())\n",
    "\n",
    "    return ' '.join(words)[:size]\n",
    "\n",
    "def create_txt_files(num_of_files = 3000, min_size = 300, max_size = 10000, output_dir = '3000_files/txt', language = 'en'):\n",
    "    os.makedirs(output_dir, exist_ok=True)\n",
    "\n",
    "    for i in range(1, num_of_files + 1):\n",
    "        size = random.randint(min_size, max_size)\n",
    "        text = generate_random_text(size, language)\n",
    "        file_name = os.path.join(output_dir, f'file{i:04d}.txt')\n",
    "        with open(file_name, 'w', encoding='utf-8') as file:\n",
    "            file.write(text)\n",
    "\n",
    "    print(f\"[TXT] Generated {num_of_files} *.txt files, saved in '{output_dir}'\")"
   ],
   "outputs": [],
   "execution_count": 1
  },
  {
   "cell_type": "markdown",
   "id": "6af27ed4",
   "metadata": {},
   "source": [
    "Generating *.html files"
   ]
  },
  {
   "cell_type": "code",
   "id": "caef46652bc403c",
   "metadata": {
    "ExecuteTime": {
     "end_time": "2025-04-16T14:18:55.329672Z",
     "start_time": "2025-04-16T14:18:55.325807Z"
    }
   },
   "source": [
    "def create_html_files(num_of_files = 3000, min_size = 300, max_size = 10000, output_dir = '3000_files/html', language = 'en'):\n",
    "    os.makedirs(output_dir, exist_ok=True)\n",
    "    faker = Faker()\n",
    "\n",
    "    for i in range(1, num_of_files + 1):\n",
    "        size = random.randint(min_size, max_size)\n",
    "        paragraphs = []\n",
    "        current_size = 0\n",
    "\n",
    "        while current_size < size:\n",
    "            p = faker.paragraph(nb_sentences=random.randint(2, 5))\n",
    "            paragraphs.append(f\"\\t\\t\\t<p>{p}<p>\")\n",
    "            current_size = sum(len(p) for p in paragraphs)\n",
    "\n",
    "        html = f\"\"\"<!DOCTYPE html>\n",
    "        <html>\n",
    "            <head>\n",
    "                <title>{faker.catch_phrase()}</title>\n",
    "            </head>\n",
    "            <body>\n",
    "                <h1>{faker.company()}</h1>\n",
    "                {'\\n    '.join(paragraphs)}\n",
    "            </body>\n",
    "        </html>\"\"\"\n",
    "        \n",
    "        with open(os.path.join(output_dir, f'file{i:04d}.html'), 'w', encoding='utf-8') as file:\n",
    "            file.write(html)\n",
    "\n",
    "    print(f\"[HTML] Generated {num_of_files} *.html files, saved in '{output_dir}'\")"
   ],
   "outputs": [],
   "execution_count": 2
  },
  {
   "cell_type": "markdown",
   "id": "eae22311",
   "metadata": {},
   "source": [
    "Generating *.csv files"
   ]
  },
  {
   "cell_type": "code",
   "id": "56cdb683",
   "metadata": {
    "ExecuteTime": {
     "end_time": "2025-04-16T14:18:55.417886Z",
     "start_time": "2025-04-16T14:18:55.413607Z"
    }
   },
   "source": [
    "import pandas as pd\n",
    "\n",
    "def create_csv_files(num_of_files = 3000, min_size = 300, max_size = 10000, output_dir = '3000_files/csv', language = 'en'):\n",
    "    os.makedirs(output_dir, exist_ok = True)\n",
    "    faker = Faker()\n",
    "\n",
    "    for i in range(1, num_of_files + 1):\n",
    "        size = random.randint(min_size, max_size)\n",
    "        rows = max(5, size // 100)\n",
    "        columns = random.randint(4,8)\n",
    "        headers = [faker.word().capitalize() for _ in range(columns)]\n",
    "\n",
    "        data = []\n",
    "        for _ in range(rows):\n",
    "            row = []\n",
    "            for _ in range(columns):\n",
    "                val_type = random.choice(['str', 'float', 'int'])\n",
    "                if val_type == 'str':\n",
    "                    row.append(faker.word())\n",
    "                elif val_type == 'float':\n",
    "                    row.append(round(random.uniform(1, 100000), 2))\n",
    "                else:\n",
    "                    row.append(random.randint(1,100000))\n",
    "        data.append(row)\n",
    "\n",
    "        df = pd.DataFrame(data, columns=headers)\n",
    "        file_name = os.path.join(output_dir, f'file{i:04d}.csv')\n",
    "        df.to_csv(file_name, index = False)\n",
    "\n",
    "    print(f\"[CSV] Generated {num_of_files} *.csv files, saved in '{output_dir}'\")"
   ],
   "outputs": [],
   "execution_count": 3
  },
  {
   "cell_type": "markdown",
   "id": "04be6994",
   "metadata": {},
   "source": [
    "Generating *.py files"
   ]
  },
  {
   "cell_type": "code",
   "id": "aed80492",
   "metadata": {
    "ExecuteTime": {
     "end_time": "2025-04-16T14:18:55.465474Z",
     "start_time": "2025-04-16T14:18:55.461734Z"
    }
   },
   "source": [
    "def create_python_files(num_of_files = 3000, min_size = 300, max_size = 10000, output_dir = '3000_files/pyth'):\n",
    "    os.makedirs(output_dir, exist_ok=True)\n",
    "    faker = Faker()\n",
    "\n",
    "    for i in range(1, num_of_files + 1):\n",
    "        size = random.randint(min_size, max_size)\n",
    "        \n",
    "        code = [\n",
    "            \"import random\\n\\n\",\n",
    "            \"class SampleClass:\\n\",\n",
    "            \"    def __init__(self):\\n\",\n",
    "            \"        self.data = [random.randint(0, 100) for _ in range(10)]\\n\\n\",\n",
    "            \"    def sort_data(self):\\n\",\n",
    "            \"        return sorted(self.data)\\n\\n\",\n",
    "            \"def main():\\n\",\n",
    "            \"    obj = SampleClass()\\n\",\n",
    "            \"    print(obj.sort_data())\\n\\n\",\n",
    "            \"if __name__ == '__main__':\\n\",\n",
    "            \"    main()\\n\"\n",
    "        ]\n",
    "\n",
    "        while sum(len(line) for line in code) < size:\n",
    "            method_name = faker.word()\n",
    "            code.append(f\"\\ndef {method_name}():\\n\\treturn {random.randint(1,100000)}\\n\")\n",
    "\n",
    "        with open(os.path.join(output_dir, f'file{i:04d}.py'), 'w', encoding='utf-8') as file:\n",
    "            file.write(''.join(code))\n",
    "\n",
    "    print(f\"[PY] Generated {num_of_files} *.py files, saved in '{output_dir}'\")"
   ],
   "outputs": [],
   "execution_count": 4
  },
  {
   "cell_type": "markdown",
   "id": "7e967ffc",
   "metadata": {},
   "source": [
    "Generating *.wav files"
   ]
  },
  {
   "cell_type": "code",
   "id": "926a7009",
   "metadata": {
    "ExecuteTime": {
     "end_time": "2025-04-16T14:18:55.517086Z",
     "start_time": "2025-04-16T14:18:55.511620Z"
    }
   },
   "source": [
    "import wave\n",
    "import numpy as np\n",
    "\n",
    "def generate_waveform(duration_sec, framerate=44100):\n",
    "    t = np.linspace(0, duration_sec, int(framerate * duration_sec), False)\n",
    "    waveform = np.zeros_like(t)\n",
    "    \n",
    "    # Dodajemy kilka losowych tonów\n",
    "    for _ in range(random.randint(3, 6)):\n",
    "        freq = random.randint(220, 1200)  # np. A3 do A6\n",
    "        waveform += np.sin(2 * np.pi * freq * t)\n",
    "    \n",
    "    waveform /= np.max(np.abs(waveform))  # normalizacja\n",
    "    return (waveform * 32767).astype(np.int16)\n",
    "\n",
    "def wav_file(filename, target_size, framerate=44100, nchannels=1, sampwidth=2):\n",
    "    sampwidth = 2  # 16 bitów\n",
    "    nchannels = 1\n",
    "    bytes_per_sec = framerate * sampwidth * nchannels\n",
    "    duration = max(1, target_size // bytes_per_sec)\n",
    "\n",
    "    data = generate_waveform(duration, framerate)\n",
    "\n",
    "    with wave.open(filename, 'wb') as wf:\n",
    "        wf.setnchannels(nchannels)\n",
    "        wf.setsampwidth(sampwidth)\n",
    "        wf.setframerate(framerate)\n",
    "        wf.writeframes(data.tobytes())\n",
    "\n",
    "def create_wav_files(num_of_files=3000, min_size=10000, max_size=500000, output_dir=\"3000_files/wav\"):\n",
    "    os.makedirs(output_dir, exist_ok=True)\n",
    "\n",
    "    for i in range(1, num_of_files + 1):\n",
    "        size = random.randint(min_size, max_size)\n",
    "        wav_file(os.path.join(output_dir, f\"file{i:04d}.wav\"), target_size=size)\n",
    "    \n",
    "    print(f\"[WAV] Generated {num_of_files} *.wav files, saved in '{output_dir}'\")"
   ],
   "outputs": [],
   "execution_count": 5
  },
  {
   "cell_type": "markdown",
   "id": "6a8067ea",
   "metadata": {},
   "source": [
    "Generating *.bmp files"
   ]
  },
  {
   "cell_type": "code",
   "id": "88a1b5df",
   "metadata": {
    "ExecuteTime": {
     "end_time": "2025-04-16T14:18:55.563838Z",
     "start_time": "2025-04-16T14:18:55.560755Z"
    }
   },
   "source": [
    "from PIL import Image\n",
    "import numpy as np\n",
    "import os\n",
    "\n",
    "def create_bmp_file(filename, target_size):\n",
    "    \n",
    "    pixel_count = max(1, (target_size - 54) // 3)\n",
    "    side = int(np.sqrt(pixel_count))  \n",
    "\n",
    "    color = tuple(np.random.randint(0, 256, 3)) \n",
    "    img = Image.new(\"RGB\", (side, side), color=color)\n",
    "    img.save(filename, format='BMP')\n",
    "\n",
    "def create_bmp_files(num_of_files=3000, min_size=50000, max_size=300000, output_dir=\"3000_files/bmp\"):\n",
    "    os.makedirs(output_dir, exist_ok=True)\n",
    "    for i in range(1, num_of_files + 1):\n",
    "        size = np.random.randint(min_size, max_size + 1)\n",
    "        filename = os.path.join(output_dir, f\"image_{i:04d}.bmp\")\n",
    "        create_bmp_file(filename, size)\n",
    "    print(f\"[BMP] Generated {num_of_files} *.bmp files, saved in '{output_dir}'\")"
   ],
   "outputs": [],
   "execution_count": 6
  },
  {
   "cell_type": "markdown",
   "id": "310cb709",
   "metadata": {},
   "source": [
    "Generating files"
   ]
  },
  {
   "cell_type": "code",
   "id": "2a8d29db",
   "metadata": {
    "ExecuteTime": {
     "end_time": "2025-04-16T14:19:56.297904Z",
     "start_time": "2025-04-16T14:18:55.613246Z"
    }
   },
   "source": [
    "create_txt_files()\n",
    "create_html_files()\n",
    "create_csv_files()\n",
    "create_python_files()\n",
    "create_wav_files()\n",
    "create_bmp_files()"
   ],
   "outputs": [
    {
     "name": "stdout",
     "output_type": "stream",
     "text": [
      "[TXT] Generated 3000 *.txt files, saved in '3000_files/txt'\n",
      "[HTML] Generated 3000 *.html files, saved in '3000_files/html'\n",
      "[CSV] Generated 3000 *.csv files, saved in '3000_files/csv'\n",
      "[PY] Generated 3000 *.py files, saved in '3000_files/pyth'\n",
      "[WAV] Generated 3000 *.wav files, saved in '3000_files/wav'\n",
      "[BMP] Generated 3000 *.bmp files, saved in '3000_files/bmp'\n"
     ]
    }
   ],
   "execution_count": 7
  }
 ],
 "metadata": {
  "kernelspec": {
   "display_name": "venv",
   "language": "python",
   "name": "python3"
  },
  "language_info": {
   "codemirror_mode": {
    "name": "ipython",
    "version": 3
   },
   "file_extension": ".py",
   "mimetype": "text/x-python",
   "name": "python",
   "nbconvert_exporter": "python",
   "pygments_lexer": "ipython3",
   "version": "3.12.3"
  }
 },
 "nbformat": 4,
 "nbformat_minor": 5
}
